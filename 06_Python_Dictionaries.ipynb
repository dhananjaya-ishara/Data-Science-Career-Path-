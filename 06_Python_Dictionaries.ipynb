{
  "nbformat": 4,
  "nbformat_minor": 0,
  "metadata": {
    "colab": {
      "provenance": []
    },
    "kernelspec": {
      "name": "python3",
      "display_name": "Python 3"
    },
    "language_info": {
      "name": "python"
    }
  },
  "cells": [
    {
      "cell_type": "code",
      "execution_count": null,
      "metadata": {
        "colab": {
          "base_uri": "https://localhost:8080/"
        },
        "id": "QDPbJb2rWwOp",
        "outputId": "ccea3160-3a2c-4db9-ed96-3ee0f65a75e5"
      },
      "outputs": [
        {
          "output_type": "stream",
          "name": "stdout",
          "text": [
            "{'name ': 'alice', 'age ': 20, 'grade': 'a'}\n"
          ]
        }
      ],
      "source": [
        "#creat a dictionary\n",
        "student = {\"name \":\"alice\",\"age \":20,\"grade\": \"a\"}\n",
        "print(student)"
      ]
    },
    {
      "cell_type": "code",
      "source": [
        "#dictionaries slicing\n",
        "student = {\"name \":\"alice\",\"age \":20,\"grade\": \"a\"} #name ,age, grade is the key values\n",
        "print(student[\"name \"])\n",
        "print(student[\"age \"])\n",
        "print(student[\"grade\"])"
      ],
      "metadata": {
        "colab": {
          "base_uri": "https://localhost:8080/"
        },
        "id": "kTm9Juz8o_Ee",
        "outputId": "9ba49e94-831d-448a-c48c-ba6abd740fb3"
      },
      "execution_count": null,
      "outputs": [
        {
          "output_type": "stream",
          "name": "stdout",
          "text": [
            "alice\n",
            "20\n",
            "a\n"
          ]
        }
      ]
    },
    {
      "cell_type": "code",
      "source": [
        "#add and remove value in dictionary\n",
        "new_dic = {\"name \":\"alice\",\"age \":20,\"grade\": \"a\",\"city\": \"tokyo\"}\n",
        "print(new_dic)\n",
        "\n",
        "new_dic[\"email \"] = \"alice@gmail.com\"#add\n",
        "print(new_dic)\n",
        "\n",
        "\n",
        "del new_dic[\"age \"]#remove\n",
        "print(new_dic)"
      ],
      "metadata": {
        "colab": {
          "base_uri": "https://localhost:8080/"
        },
        "id": "azMqsOnWo-tG",
        "outputId": "096925b4-99ee-45bc-b0e4-d15d1838802f"
      },
      "execution_count": null,
      "outputs": [
        {
          "output_type": "stream",
          "name": "stdout",
          "text": [
            "{'name ': 'alice', 'age ': 20, 'grade': 'a', 'city': 'tokyo'}\n",
            "{'name ': 'alice', 'age ': 20, 'grade': 'a', 'city': 'tokyo', 'email ': 'alice@gmail.com'}\n",
            "{'name ': 'alice', 'grade': 'a', 'city': 'tokyo', 'email ': 'alice@gmail.com'}\n"
          ]
        }
      ]
    },
    {
      "cell_type": "code",
      "source": [
        "#dictionary extraction\n",
        "#keys()\n",
        "#values()\n",
        "#items()\n",
        "new_dic = {\"name \":\"alice\",\"age \":20,\"grade\": \"a\",\"city\": \"tokyo\"}\n",
        "print(new_dic.keys())\n",
        "print(new_dic.values())\n",
        "print(new_dic.items())\n",
        "print(\"item count is : \",len(new_dic.items()))"
      ],
      "metadata": {
        "colab": {
          "base_uri": "https://localhost:8080/"
        },
        "id": "eUhL_zn5o-pn",
        "outputId": "96ae7d9b-9eeb-4355-d036-00588f65d661"
      },
      "execution_count": null,
      "outputs": [
        {
          "output_type": "stream",
          "name": "stdout",
          "text": [
            "dict_keys(['name ', 'age ', 'grade', 'city'])\n",
            "dict_values(['alice', 20, 'a', 'tokyo'])\n",
            "dict_items([('name ', 'alice'), ('age ', 20), ('grade', 'a'), ('city', 'tokyo')])\n",
            "item count is :  4\n"
          ]
        }
      ]
    },
    {
      "cell_type": "code",
      "source": [
        "#You are given a dictionary representing a student's information. Slice and extract the values for the name and grade keys.\n",
        "new_student = {\"name \":\"alice\",\"age \":20,\"grade\": \"a\",\"city\": \"tokyo\"}\n",
        "print(new_student[\"name \"])\n",
        "print(new_student[\"grade\"])"
      ],
      "metadata": {
        "colab": {
          "base_uri": "https://localhost:8080/"
        },
        "id": "7GQkEb1SsLi6",
        "outputId": "5a23dfa2-7719-4199-8e47-7f8e43ebe77f"
      },
      "execution_count": null,
      "outputs": [
        {
          "output_type": "stream",
          "name": "stdout",
          "text": [
            "alice\n",
            "a\n"
          ]
        }
      ]
    },
    {
      "cell_type": "code",
      "source": [
        "#Add a new key-value pair to the dictionary representing the student's email address (alice@example.com).\n",
        "new_student = {\"name \":\"alice\",\"age \":20,\"grade\": \"a\",\"city\": \"tokyo\"}\n",
        "new_student[\"email \"] = \"alice@gmail.com\"\n",
        "print(new_student)"
      ],
      "metadata": {
        "colab": {
          "base_uri": "https://localhost:8080/"
        },
        "id": "CQus-b9osKgG",
        "outputId": "12803389-28cf-4525-a030-ebbdd13b708b"
      },
      "execution_count": null,
      "outputs": [
        {
          "output_type": "stream",
          "name": "stdout",
          "text": [
            "{'name ': 'alice', 'age ': 20, 'grade': 'a', 'city': 'tokyo', 'email ': 'alice@gmail.com'}\n"
          ]
        }
      ]
    },
    {
      "cell_type": "code",
      "source": [
        "#Remove the city key-value pair from the dictionary.\n",
        "new_student = {\"name \":\"alice\",\"age \":20,\"grade\": \"a\",\"city\": \"tokyo\"}\n",
        "del new_student[\"city\"]\n",
        "print(new_student)"
      ],
      "metadata": {
        "colab": {
          "base_uri": "https://localhost:8080/"
        },
        "id": "Jclu0Pzto-m6",
        "outputId": "a225a922-5966-40f4-b654-430d65dc418d"
      },
      "execution_count": null,
      "outputs": [
        {
          "output_type": "stream",
          "name": "stdout",
          "text": [
            "{'name ': 'alice', 'age ': 20, 'grade': 'a'}\n"
          ]
        }
      ]
    },
    {
      "cell_type": "code",
      "source": [
        "#Retrieve and display all the keys, all the values, and all the key-value pairs from the dictionary.\n",
        "new_student = {\"name \":\"alice\",\"age \":20,\"grade\": \"a\",\"city\": \"tokyo\"}\n",
        "print(new_student.keys())\n",
        "print(new_student.values())\n",
        "print(new_student.items())"
      ],
      "metadata": {
        "colab": {
          "base_uri": "https://localhost:8080/"
        },
        "id": "DnvTjSPSo-kS",
        "outputId": "36e63788-405b-49fa-daa4-b5da7fb312b6"
      },
      "execution_count": null,
      "outputs": [
        {
          "output_type": "stream",
          "name": "stdout",
          "text": [
            "dict_keys(['name ', 'age ', 'grade', 'city'])\n",
            "dict_values(['alice', 20, 'a', 'tokyo'])\n",
            "dict_items([('name ', 'alice'), ('age ', 20), ('grade', 'a'), ('city', 'tokyo')])\n"
          ]
        }
      ]
    }
  ]
}
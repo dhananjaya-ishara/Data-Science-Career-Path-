{
  "nbformat": 4,
  "nbformat_minor": 0,
  "metadata": {
    "colab": {
      "provenance": []
    },
    "kernelspec": {
      "name": "python3",
      "display_name": "Python 3"
    },
    "language_info": {
      "name": "python"
    }
  },
  "cells": [
    {
      "cell_type": "markdown",
      "source": [
        "## list and tuples"
      ],
      "metadata": {
        "id": "GMcvlQJAVO1E"
      }
    },
    {
      "cell_type": "markdown",
      "source": [
        "tuples"
      ],
      "metadata": {
        "id": "IUF8Gpk9Z0_Z"
      }
    },
    {
      "cell_type": "code",
      "execution_count": null,
      "metadata": {
        "colab": {
          "base_uri": "https://localhost:8080/"
        },
        "id": "FZTml1o46rMl",
        "outputId": "73e59055-5e9b-4c93-8f9f-935fa56d013f"
      },
      "outputs": [
        {
          "output_type": "stream",
          "name": "stdout",
          "text": [
            "('apple', 'banana', 'cherry')\n"
          ]
        }
      ],
      "source": [
        "#tuples\n",
        "fruits = (\"apple\",\"banana\",\"cherry\")\n",
        "print(fruits)"
      ]
    },
    {
      "cell_type": "code",
      "source": [
        "#concatenation\n",
        "t1 =(1,2,3)\n",
        "t2 =(4,5,6,7,8)\n",
        "result = t1 + t2\n",
        "print(result)"
      ],
      "metadata": {
        "colab": {
          "base_uri": "https://localhost:8080/"
        },
        "id": "OUtRTP9oV3fq",
        "outputId": "78e70b74-8c57-409f-a249-9426c069b81a"
      },
      "execution_count": null,
      "outputs": [
        {
          "output_type": "stream",
          "name": "stdout",
          "text": [
            "(1, 2, 3, 4, 5, 6, 7, 8)\n"
          ]
        }
      ]
    },
    {
      "cell_type": "code",
      "source": [
        "#tuple slicing(extracts value in tuple)\n",
        "x = (10,20,30,40,50,60,70,0,90,100)\n",
        "print(x)\n",
        "\n",
        "tuple_slicing1 = x[0:5]\n",
        "print(tuple_slicing1)\n",
        "\n",
        "tuple_slicing2 = x[0:10:2]\n",
        "print(tuple_slicing2)\n",
        "\n",
        "tuple_slicing3 = x[0:10:3]\n",
        "print(tuple_slicing3)"
      ],
      "metadata": {
        "colab": {
          "base_uri": "https://localhost:8080/"
        },
        "id": "PSAnTa9XWXxi",
        "outputId": "ddf54b33-112f-4f9f-ca39-30d7baa48b4d"
      },
      "execution_count": null,
      "outputs": [
        {
          "output_type": "stream",
          "name": "stdout",
          "text": [
            "(10, 20, 30, 40, 50, 60, 70, 0, 90, 100)\n",
            "(10, 20, 30, 40, 50)\n",
            "(10, 30, 50, 70, 90)\n",
            "(10, 40, 70, 100)\n"
          ]
        }
      ]
    },
    {
      "cell_type": "code",
      "source": [
        "#nexted tuple slicing\n",
        "nested = ((\"apple\",\"banana\"),(10,20,30),(\"x\",\"y\",\"z\"))\n",
        "print(nested)\n",
        "print(nested[1])\n",
        "print(nested[0][1])\n",
        "print(nested[1][2])\n",
        "print(nested[2][0:3])"
      ],
      "metadata": {
        "colab": {
          "base_uri": "https://localhost:8080/"
        },
        "id": "r-NtWr5RYK5q",
        "outputId": "72c87d01-64c1-46ef-d574-33e0e2b6e7d9"
      },
      "execution_count": null,
      "outputs": [
        {
          "output_type": "stream",
          "name": "stdout",
          "text": [
            "(('apple', 'banana'), (10, 20, 30), ('x', 'y', 'z'))\n",
            "(10, 20, 30)\n",
            "banana\n",
            "30\n",
            "('x', 'y', 'z')\n"
          ]
        }
      ]
    },
    {
      "cell_type": "markdown",
      "source": [
        "list"
      ],
      "metadata": {
        "id": "3BRNE9tcZzWL"
      }
    },
    {
      "cell_type": "code",
      "source": [
        "numbers = [1,2,3,4,5,6,7,8,9,0]\n",
        "print(numbers)"
      ],
      "metadata": {
        "colab": {
          "base_uri": "https://localhost:8080/"
        },
        "id": "toGgjgC-ZiZh",
        "outputId": "c2faaa13-a192-4350-d94c-a1aba940814c"
      },
      "execution_count": null,
      "outputs": [
        {
          "output_type": "stream",
          "name": "stdout",
          "text": [
            "[1, 2, 3, 4, 5, 6, 7, 8, 9, 0]\n"
          ]
        }
      ]
    },
    {
      "cell_type": "code",
      "source": [
        "#list forward slicing\n",
        "colors = [\"red\",\"green\",\"blue\",\"yellow\"]\n",
        "print(colors[0])\n",
        "print(colors[1])\n",
        "print(colors[2])\n",
        "print(colors[3])\n",
        "\n",
        "#[\"red\",\"green\",\"blue\",\"yellow\"]\n",
        "#[    0,       1,    2,      3 ] that positive indexing\n",
        "\n",
        "forward_slicing = colors[0:4] # 0-starting point 4-number of extract value\n",
        "print(forward_slicing)\n",
        "\n",
        "forward_slicing = colors[0:4:2] # 0-starting point 4-number of extract value\n",
        "print(forward_slicing)"
      ],
      "metadata": {
        "colab": {
          "base_uri": "https://localhost:8080/"
        },
        "id": "Kd9VaENQaLp4",
        "outputId": "94f33bc9-df6f-472f-f9c2-2dd85fa14f2c"
      },
      "execution_count": null,
      "outputs": [
        {
          "output_type": "stream",
          "name": "stdout",
          "text": [
            "red\n",
            "green\n",
            "blue\n",
            "yellow\n",
            "['red', 'green', 'blue', 'yellow']\n",
            "['red', 'blue']\n"
          ]
        }
      ]
    },
    {
      "cell_type": "code",
      "source": [
        "#list backward slicing\n",
        "colors = [\"red\",\"green\",\"blue\",\"yellow\"]\n",
        "print(colors[-1])\n",
        "print(colors[-2])\n",
        "print(colors[-3])\n",
        "print(colors[-4])\n",
        "\n",
        "#[\"red\",\"green\",\"blue\",\"yellow\"]\n",
        "#[   -4,      -3,   -2,     -1 ] that negetive indexing\n",
        "\n",
        "backward_slicing1 = colors[-1]\n",
        "print(backward_slicing1)\n",
        "\n",
        "backward_slicing2 = colors[-4 : -2]\n",
        "print(backward_slicing2)\n"
      ],
      "metadata": {
        "colab": {
          "base_uri": "https://localhost:8080/"
        },
        "id": "Qpy1j9kIbyuq",
        "outputId": "f03a8848-95ac-4e31-bf04-2a53a04f591f"
      },
      "execution_count": null,
      "outputs": [
        {
          "output_type": "stream",
          "name": "stdout",
          "text": [
            "yellow\n",
            "blue\n",
            "green\n",
            "red\n",
            "yellow\n",
            "['red', 'green']\n",
            "['yellow', 'blue', 'green']\n"
          ]
        }
      ]
    },
    {
      "cell_type": "code",
      "source": [
        "#list striding\n",
        "colors = [\"red\",\"green\",\"blue\",\"yellow\"]\n",
        "\n",
        "#[\"red\",\"green\",\"blue\",\"yellow\"]\n",
        "#[   -4,      -3,   -2,     -1 ] that negetive indexing\n",
        "\n",
        "backward_striding= colors[-1:-4:-1]\n",
        "print(backward_striding)"
      ],
      "metadata": {
        "colab": {
          "base_uri": "https://localhost:8080/"
        },
        "id": "-LO3lemuerjl",
        "outputId": "dd1f63c7-4ff2-40ec-db66-6772c3a8a114"
      },
      "execution_count": null,
      "outputs": [
        {
          "output_type": "stream",
          "name": "stdout",
          "text": [
            "['yellow', 'blue', 'green']\n"
          ]
        }
      ]
    },
    {
      "cell_type": "code",
      "source": [
        "#list striding\n",
        "colors = [\"red\",\"green\",\"blue\",\"yellow\"]\n",
        "\n",
        "#[\"red\",\"green\",\"blue\",\"yellow\"]\n",
        "#[    0,       1,    2,      3 ] that positive indexing\n",
        "\n",
        "forward_striding = colors[0:4:2] # 0-starting point 4-number of extract value\n",
        "print(forward_striding)"
      ],
      "metadata": {
        "colab": {
          "base_uri": "https://localhost:8080/"
        },
        "id": "izIexmtjfIPe",
        "outputId": "9b8cff1c-81d2-4ae3-fc38-fd9f97d78e8f"
      },
      "execution_count": null,
      "outputs": [
        {
          "output_type": "stream",
          "name": "stdout",
          "text": [
            "['red', 'blue']\n"
          ]
        }
      ]
    },
    {
      "cell_type": "code",
      "source": [
        "#nested list slicing\n",
        "nested = [[\"apple\",\"banana\"],[10,20,30],[\"x\",\"y\",\"z\"]]\n",
        "print(nested)\n",
        "print(nested[0])\n",
        "print(nested[1][1])\n",
        "print(nested[2][2])\n",
        "print(nested[0][0:2])\n",
        "print(nested[1][1:2])\n",
        "print(nested[2][0:3])"
      ],
      "metadata": {
        "colab": {
          "base_uri": "https://localhost:8080/"
        },
        "id": "aGgMQLS-fg8o",
        "outputId": "f4d0b6b7-7783-4569-aac7-b0ab01a92c4b"
      },
      "execution_count": null,
      "outputs": [
        {
          "output_type": "stream",
          "name": "stdout",
          "text": [
            "[['apple', 'banana'], [10, 20, 30], ['x', 'y', 'z']]\n",
            "['apple', 'banana']\n",
            "20\n",
            "z\n",
            "['apple', 'banana']\n",
            "[20]\n",
            "['x', 'y', 'z']\n"
          ]
        }
      ]
    },
    {
      "cell_type": "code",
      "source": [
        "#list item add and remove\n",
        "#nested list slicing\n",
        "colors = [\"red\",\"green\",\"blue\",\"yellow\"]\n",
        "print(colors)\n",
        "colors.append(\"orange\")\n",
        "print(colors)\n",
        "colors.append(\"aqua\")\n",
        "print(colors)\n",
        "colors.remove(\"red\")\n",
        "print(colors)\n",
        "colors.remove(\"aqua\")\n",
        "print(colors)\n"
      ],
      "metadata": {
        "colab": {
          "base_uri": "https://localhost:8080/"
        },
        "id": "ZBKepOjog1mk",
        "outputId": "ecde6a46-cb30-4a3a-9efc-45980c95fe33"
      },
      "execution_count": null,
      "outputs": [
        {
          "output_type": "stream",
          "name": "stdout",
          "text": [
            "['red', 'green', 'blue', 'yellow']\n",
            "['red', 'green', 'blue', 'yellow', 'orange']\n",
            "['red', 'green', 'blue', 'yellow', 'orange', 'aqua']\n",
            "['green', 'blue', 'yellow', 'orange', 'aqua']\n",
            "['green', 'blue', 'yellow', 'orange']\n"
          ]
        }
      ]
    },
    {
      "cell_type": "code",
      "source": [
        "numbers = [1,2,3,4,5]\n",
        "print(numbers)\n",
        "numbers.append(6)\n",
        "print(numbers)\n",
        "numbers.remove(5)\n",
        "print(numbers)"
      ],
      "metadata": {
        "colab": {
          "base_uri": "https://localhost:8080/"
        },
        "id": "6isVMNsthcpy",
        "outputId": "cb9f0001-96de-47b0-8414-4bf40ba358e6"
      },
      "execution_count": null,
      "outputs": [
        {
          "output_type": "stream",
          "name": "stdout",
          "text": [
            "[1, 2, 3, 4, 5]\n",
            "[1, 2, 3, 4, 5, 6]\n",
            "[1, 2, 3, 4, 6]\n"
          ]
        }
      ]
    },
    {
      "cell_type": "code",
      "source": [
        "#You have a nested tuple nested_tuple = ((1, 2, 3), (4, 5, 6), (7, 8, 9)). Slice the second tuple (at index 1) and then extract the element at index 2 from it.\n",
        "nested_tuple = ((1, 2, 3), (4, 5, 6), (7, 8, 9))\n",
        "print(nested_tuple)\n",
        "print(nested_tuple[1])\n",
        "print(nested_tuple[1][2])"
      ],
      "metadata": {
        "colab": {
          "base_uri": "https://localhost:8080/"
        },
        "id": "Idc4qHb9hu3P",
        "outputId": "9667c323-1941-47c6-f78d-84b7a64ddf41"
      },
      "execution_count": null,
      "outputs": [
        {
          "output_type": "stream",
          "name": "stdout",
          "text": [
            "((1, 2, 3), (4, 5, 6), (7, 8, 9))\n",
            "(4, 5, 6)\n",
            "6\n"
          ]
        }
      ]
    },
    {
      "cell_type": "code",
      "source": [
        "#You have a nested list nested_list = [[\"a\", \"b\", \"c\"], [1, 2, 3], [\"x\", \"y\", \"z\"]]. Slice the second list (at index 1) and extract the element at index 2.\n",
        "nested_list = [[\"a\", \"b\", \"c\"], [1, 2, 3], [\"x\", \"y\", \"z\"]]\n",
        "print(nested_list)\n",
        "print(nested_list[1])\n",
        "print(nested_list[1][2])"
      ],
      "metadata": {
        "colab": {
          "base_uri": "https://localhost:8080/"
        },
        "id": "ATKabaqJhuzq",
        "outputId": "eda929a3-e9a1-49a7-eab4-9fc880e28db0"
      },
      "execution_count": null,
      "outputs": [
        {
          "output_type": "stream",
          "name": "stdout",
          "text": [
            "[['a', 'b', 'c'], [1, 2, 3], ['x', 'y', 'z']]\n",
            "[1, 2, 3]\n",
            "3\n"
          ]
        }
      ]
    },
    {
      "cell_type": "code",
      "source": [
        "#You have a list numbers = [10, 20, 30, 40, 50]. Slice the last three elements using negative indices.\n",
        "list_numbers = [10, 20, 30, 40, 50]\n",
        "print(list_numbers)\n",
        "print(list_numbers[-3:])"
      ],
      "metadata": {
        "colab": {
          "base_uri": "https://localhost:8080/"
        },
        "id": "XlKCvHHYhuxE",
        "outputId": "f67d2561-8989-4fa2-956c-262afca98919"
      },
      "execution_count": null,
      "outputs": [
        {
          "output_type": "stream",
          "name": "stdout",
          "text": [
            "[10, 20, 30, 40, 50]\n",
            "[30, 40, 50]\n"
          ]
        }
      ]
    },
    {
      "cell_type": "code",
      "source": [
        "#You have a list numbers = [10, 20, 30, 40, 50, 60]. Slice the list to extract every second element starting from index 1 and ending at index 5.\n",
        "list_numbers = [10, 20, 30, 40, 50, 60]\n",
        "print(list_numbers)\n",
        "print(list_numbers[1:5:2])\n"
      ],
      "metadata": {
        "colab": {
          "base_uri": "https://localhost:8080/"
        },
        "id": "gOtNcAvihuud",
        "outputId": "a13c4172-7870-46fa-fd21-4c0566dc4bef"
      },
      "execution_count": null,
      "outputs": [
        {
          "output_type": "stream",
          "name": "stdout",
          "text": [
            "[10, 20, 30, 40, 50, 60]\n",
            "[20, 40]\n"
          ]
        }
      ]
    },
    {
      "cell_type": "code",
      "source": [
        "#ou have a list fruits = [\"apple\", \"banana\", \"cherry\"]. Add \"orange\" to the list using the append() method.\n",
        "fruits = [\"apple\", \"banana\", \"cherry\"]\n",
        "print(fruits)\n",
        "fruits.append(\"orange\")\n",
        "print(fruits)"
      ],
      "metadata": {
        "colab": {
          "base_uri": "https://localhost:8080/"
        },
        "id": "KyGxDVfFhurs",
        "outputId": "c8e7c35a-bd86-49c2-c1d6-cc43dbf9403d"
      },
      "execution_count": null,
      "outputs": [
        {
          "output_type": "stream",
          "name": "stdout",
          "text": [
            "['apple', 'banana', 'cherry']\n",
            "['apple', 'banana', 'cherry', 'orange']\n"
          ]
        }
      ]
    },
    {
      "cell_type": "code",
      "source": [
        "#You have a list fruits = [\"apple\", \"banana\", \"cherry\", \"orange\"]. Remove \"banana\" from the list using the remove() method.\n",
        "fruits = [\"apple\", \"banana\", \"cherry\", \"orange\"]\n",
        "print(fruits)\n",
        "fruits.remove(\"banana\")\n",
        "print(fruits)"
      ],
      "metadata": {
        "colab": {
          "base_uri": "https://localhost:8080/"
        },
        "id": "1xM-7Lrhhuo1",
        "outputId": "255c9546-7294-4909-cf10-21fa0f413c37"
      },
      "execution_count": null,
      "outputs": [
        {
          "output_type": "stream",
          "name": "stdout",
          "text": [
            "['apple', 'banana', 'cherry', 'orange']\n",
            "['apple', 'cherry', 'orange']\n"
          ]
        }
      ]
    },
    {
      "cell_type": "code",
      "source": [
        "#You have list fruits = [\"apple\", \"banana\", \"cherry\", \"orange\"].Remove \"cherry\" from the list using the remove() method.\n",
        "fruits = [\"apple\", \"banana\", \"cherry\", \"orange\"]\n",
        "print(fruits)\n",
        "fruits.remove(\"cherry\")\n",
        "print(fruits)"
      ],
      "metadata": {
        "id": "Mb_qkTe7huls"
      },
      "execution_count": null,
      "outputs": []
    }
  ]
}
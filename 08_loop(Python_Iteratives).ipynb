{
  "nbformat": 4,
  "nbformat_minor": 0,
  "metadata": {
    "colab": {
      "provenance": []
    },
    "kernelspec": {
      "name": "python3",
      "display_name": "Python 3"
    },
    "language_info": {
      "name": "python"
    }
  },
  "cells": [
    {
      "cell_type": "markdown",
      "source": [
        "#Python Iteratives(loop)"
      ],
      "metadata": {
        "id": "-FO7g0CdEj9U"
      }
    },
    {
      "cell_type": "code",
      "source": [
        "#for loop\n",
        "for n in range(10):\n",
        "  print(\"hi\",n)"
      ],
      "metadata": {
        "colab": {
          "base_uri": "https://localhost:8080/"
        },
        "id": "i9uONTCSEh0D",
        "outputId": "787e42ab-3089-44b4-fd6c-e372e0120412"
      },
      "execution_count": null,
      "outputs": [
        {
          "output_type": "stream",
          "name": "stdout",
          "text": [
            "hi 0\n",
            "hi 1\n",
            "hi 2\n",
            "hi 3\n",
            "hi 4\n",
            "hi 5\n",
            "hi 6\n",
            "hi 7\n",
            "hi 8\n",
            "hi 9\n"
          ]
        }
      ]
    },
    {
      "cell_type": "code",
      "execution_count": null,
      "metadata": {
        "colab": {
          "base_uri": "https://localhost:8080/"
        },
        "id": "ZsmfD1a5EaYH",
        "outputId": "d02a7dc6-b329-43d0-8513-6fa423d45523"
      },
      "outputs": [
        {
          "output_type": "stream",
          "name": "stdout",
          "text": [
            "apple\n",
            "banana\n",
            "cherry\n"
          ]
        }
      ],
      "source": [
        "fruits = [\"apple\",\"banana\",\"cherry\"]\n",
        "for fruits in fruits:\n",
        "  print(fruits)"
      ]
    },
    {
      "cell_type": "code",
      "source": [
        "#for in range function\n",
        "for h in range(0,10):#range(start,stop,step)\n",
        "  print(h)"
      ],
      "metadata": {
        "colab": {
          "base_uri": "https://localhost:8080/"
        },
        "id": "RFxRSikm88xn",
        "outputId": "85df04f1-0489-4411-8607-d62ed667d716"
      },
      "execution_count": null,
      "outputs": [
        {
          "output_type": "stream",
          "name": "stdout",
          "text": [
            "0\n",
            "1\n",
            "2\n",
            "3\n",
            "4\n",
            "5\n",
            "6\n",
            "7\n",
            "8\n",
            "9\n"
          ]
        }
      ]
    },
    {
      "cell_type": "code",
      "source": [
        "for h in range(0,10,2):#range(start,stop,step)\n",
        "  print(h)"
      ],
      "metadata": {
        "colab": {
          "base_uri": "https://localhost:8080/"
        },
        "id": "N4-NO3vj9Und",
        "outputId": "8901b998-c898-4779-a2ec-8b029815fd72"
      },
      "execution_count": null,
      "outputs": [
        {
          "output_type": "stream",
          "name": "stdout",
          "text": [
            "0\n",
            "2\n",
            "4\n",
            "6\n",
            "8\n"
          ]
        }
      ]
    },
    {
      "cell_type": "code",
      "source": [
        "#for in enumerate\n",
        "#enumerate(iterable,start=0) that use indexing value in list\n",
        "fruits = [\"apple\",\"banana\",\"cherry\"]\n",
        "for index,fruits  in enumerate(fruits,start=1):# index hold curent possition\n",
        "  print(f\"index :{index},fruits : {fruits}\")\n",
        "\n",
        "fruits = [\"apple\",\"banana\",\"cherry\"]\n",
        "for fruits  in fruits:\n",
        "  print(fruits)"
      ],
      "metadata": {
        "colab": {
          "base_uri": "https://localhost:8080/"
        },
        "id": "yjmtYq2H9ck5",
        "outputId": "d707196c-e945-478f-dc1a-ed95a2864a57"
      },
      "execution_count": null,
      "outputs": [
        {
          "output_type": "stream",
          "name": "stdout",
          "text": [
            "index :1,fruits : apple\n",
            "index :2,fruits : banana\n",
            "index :3,fruits : cherry\n",
            "apple\n",
            "banana\n",
            "cherry\n"
          ]
        }
      ]
    },
    {
      "cell_type": "code",
      "source": [
        "#while loop\n",
        "numbers = []\n",
        "\n",
        "i = 1\n",
        "\n",
        "while i<=5:\n",
        " numbers.append(i)\n",
        " i+=1\n",
        "print(numbers)"
      ],
      "metadata": {
        "colab": {
          "base_uri": "https://localhost:8080/"
        },
        "id": "uuspVgi19tL0",
        "outputId": "385087e6-5182-4f01-dede-4b63000ca744"
      },
      "execution_count": null,
      "outputs": [
        {
          "output_type": "stream",
          "name": "stdout",
          "text": [
            "[1, 2, 3, 4, 5]\n"
          ]
        }
      ]
    },
    {
      "cell_type": "code",
      "source": [
        "#Write a program to iterate through a list of names and print each name along with a message saying \"Welcome to the team!\". The list of names is given as:\n",
        "\n",
        "#[\"Alice\", \"Bob\", \"Charlie\", \"Diana\"].\n",
        "student = [\"Alice\", \"Bob\", \"Charlie\", \"Diana\"]\n",
        "\n",
        "for new in student:\n",
        "  print(new,\"Welcome to the team!\")"
      ],
      "metadata": {
        "colab": {
          "base_uri": "https://localhost:8080/"
        },
        "id": "fA7WRtx0_WhP",
        "outputId": "906d8ee5-a3a7-4d97-c702-2f0bd8968010"
      },
      "execution_count": null,
      "outputs": [
        {
          "output_type": "stream",
          "name": "stdout",
          "text": [
            "Alice Welcome to the team!\n",
            "Bob Welcome to the team!\n",
            "Charlie Welcome to the team!\n",
            "Diana Welcome to the team!\n"
          ]
        }
      ]
    },
    {
      "cell_type": "code",
      "source": [
        "#Write a program to iterate through a list of tasks and print each task with its corresponding index number, starting from 1. The list of tasks is:\n",
        "\n",
        "#[\"Wash the dishes\", \"Clean the room\", \"Do the laundry\", \"Prepare dinner\"].\n",
        "\n",
        "# List of tasks\n",
        "tasks = [\"Wash the dishes\", \"Clean the room\", \"Do the laundry\", \"Prepare dinner\"]\n",
        "\n",
        "for index, task in enumerate(tasks, start = 0):\n",
        "    print(f\"Task {index}: {task}\")"
      ],
      "metadata": {
        "colab": {
          "base_uri": "https://localhost:8080/"
        },
        "id": "knxRosjc_gx1",
        "outputId": "1045bce6-2fd9-43bd-915b-b47a7ebd9b8d"
      },
      "execution_count": null,
      "outputs": [
        {
          "output_type": "stream",
          "name": "stdout",
          "text": [
            "Task 0: Wash the dishes\n",
            "Task 1: Clean the room\n",
            "Task 2: Do the laundry\n",
            "Task 3: Prepare dinner\n"
          ]
        }
      ]
    },
    {
      "cell_type": "code",
      "source": [
        "#Write a program to create a list of even numbers between 2 and 10 (inclusive) using a while-loop. Start with an empty list and append each even number to the list during each iteration.\n",
        "even_numbers = []\n",
        "num = 2\n",
        "\n",
        "while num <= 10:\n",
        "    even_numbers.append(num)\n",
        "    num += 2\n",
        "\n",
        "print(even_numbers)"
      ],
      "metadata": {
        "colab": {
          "base_uri": "https://localhost:8080/"
        },
        "id": "AKQYcH8A_qVn",
        "outputId": "53b64469-565f-4e06-946e-c1dea9afc387"
      },
      "execution_count": null,
      "outputs": [
        {
          "output_type": "stream",
          "name": "stdout",
          "text": [
            "[2, 4, 6, 8, 10]\n"
          ]
        }
      ]
    },
    {
      "cell_type": "code",
      "source": [
        "#Write a program to classify a list of numbers into positive, negative, or zero. Use a for-loop to iterate through the numbers and check each one using if, elif, and else conditions.**\n",
        "\n",
        "#The list of numbers is: [10, -5, 0, 23, -7, 0, 15, -3].\n",
        "# List of numbers\n",
        "numbers = [10, -5, 0, 23, -7, 0, 15, -3]\n",
        "\n",
        "for num in numbers:\n",
        "    if num > 0:\n",
        "        print(f\"{num}: Positive number\")# (f\"{num}: sentenve\")\n",
        "    elif num < 0:\n",
        "        print(f\"{num}: Negative number\")\n",
        "    else:\n",
        "        print(f\"{num}: zero\")"
      ],
      "metadata": {
        "colab": {
          "base_uri": "https://localhost:8080/"
        },
        "id": "qoxgnHZZ_t7I",
        "outputId": "1bbb93aa-e028-4fc0-fece-52cdbceb3d84"
      },
      "execution_count": null,
      "outputs": [
        {
          "output_type": "stream",
          "name": "stdout",
          "text": [
            "10: Positive number\n",
            "-5: Negative number\n",
            "0: zero\n",
            "23: Positive number\n",
            "-7: Negative number\n",
            "0: zero\n",
            "15: Positive number\n",
            "-3: Negative number\n"
          ]
        }
      ]
    }
  ]
}
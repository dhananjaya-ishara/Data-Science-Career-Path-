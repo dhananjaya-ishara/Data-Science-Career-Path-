{
  "nbformat": 4,
  "nbformat_minor": 0,
  "metadata": {
    "colab": {
      "provenance": []
    },
    "kernelspec": {
      "name": "python3",
      "display_name": "Python 3"
    },
    "language_info": {
      "name": "python"
    }
  },
  "cells": [
    {
      "cell_type": "markdown",
      "source": [
        "#string operators#"
      ],
      "metadata": {
        "id": "KIDoFlvgeKbH"
      }
    },
    {
      "cell_type": "code",
      "execution_count": null,
      "metadata": {
        "colab": {
          "base_uri": "https://localhost:8080/"
        },
        "id": "OUEd0QBe6qSR",
        "outputId": "5547672e-77a1-41c2-9a7f-5672e08d0b74"
      },
      "outputs": [
        {
          "output_type": "stream",
          "name": "stdout",
          "text": [
            "j\n",
            "o\n",
            "o\n",
            "n\n"
          ]
        }
      ],
      "source": [
        "#forward indexing\n",
        "name = \"joon\"\n",
        "# j  o  o  n - positions\n",
        "# 0  1  2  3 - index\n",
        "print(name[0])\n",
        "print(name[1])\n",
        "print(name[2])\n",
        "print(name[3])"
      ]
    },
    {
      "cell_type": "code",
      "source": [
        "#backward indexing\n",
        "name = \"joon\"\n",
        "# j  o  o  n - positions\n",
        "#-0 -1 -2 -3 - index(negetive)\n",
        "print(name[-3])\n",
        "print(name[-2])\n",
        "print(name[-1])\n",
        "print(name[-0])"
      ],
      "metadata": {
        "colab": {
          "base_uri": "https://localhost:8080/"
        },
        "id": "iM01fefKfmna",
        "outputId": "a1ca4a88-568d-4e38-e2a0-da84c9a2aaa3"
      },
      "execution_count": null,
      "outputs": [
        {
          "output_type": "stream",
          "name": "stdout",
          "text": [
            "o\n",
            "o\n",
            "n\n",
            "j\n"
          ]
        }
      ]
    },
    {
      "cell_type": "code",
      "source": [
        "#slicing method for string\n",
        "value = \"prigraming\"\n",
        "sliced0 = value[0:4]\n",
        "print(sliced0)\n",
        "\n",
        "#skip characters\n",
        "value = \"prigraming\"\n",
        "sliced = value[0:4:2]\n",
        "print(sliced)"
      ],
      "metadata": {
        "colab": {
          "base_uri": "https://localhost:8080/"
        },
        "id": "XmDNMjKof37P",
        "outputId": "932d3330-c8ad-4262-9299-0c71f9705774"
      },
      "execution_count": null,
      "outputs": [
        {
          "output_type": "stream",
          "name": "stdout",
          "text": [
            "prig\n",
            "pi\n"
          ]
        }
      ]
    },
    {
      "cell_type": "code",
      "source": [
        "#len function\n",
        "name = \"jonathan\"\n",
        "len(name)"
      ],
      "metadata": {
        "colab": {
          "base_uri": "https://localhost:8080/"
        },
        "id": "XcnIz2Crgq0a",
        "outputId": "ed0c5b66-5e0f-4b1d-e341-7a186e0ea379"
      },
      "execution_count": null,
      "outputs": [
        {
          "output_type": "execute_result",
          "data": {
            "text/plain": [
              "8"
            ]
          },
          "metadata": {},
          "execution_count": 12
        }
      ]
    },
    {
      "cell_type": "code",
      "source": [
        "#connect string(concatenation)\n",
        "s1 = \"hi\"\n",
        "s2 = \"user\"\n",
        "result = s1 + \"_\" + s2\n",
        "print(result)"
      ],
      "metadata": {
        "colab": {
          "base_uri": "https://localhost:8080/"
        },
        "id": "E6r97l8dhU63",
        "outputId": "6380d00c-9159-4848-a751-67e05d796a05"
      },
      "execution_count": null,
      "outputs": [
        {
          "output_type": "stream",
          "name": "stdout",
          "text": [
            "hi_user\n"
          ]
        }
      ]
    },
    {
      "cell_type": "code",
      "source": [
        "#escape sequence in string\n",
        "print(\"hellow \\n world\") #\\n new line"
      ],
      "metadata": {
        "colab": {
          "base_uri": "https://localhost:8080/"
        },
        "id": "0_rLaIDXh2q6",
        "outputId": "6fbe2185-49d3-4e5a-cc1e-cc8fcbfd216e"
      },
      "execution_count": null,
      "outputs": [
        {
          "output_type": "stream",
          "name": "stdout",
          "text": [
            "hellow \n",
            " world\n"
          ]
        }
      ]
    },
    {
      "cell_type": "code",
      "source": [
        "#upper() lover ()\n",
        "name = \"JoNaThAn\"\n",
        "print(name.upper())\n",
        "print(name.lower())"
      ],
      "metadata": {
        "colab": {
          "base_uri": "https://localhost:8080/"
        },
        "id": "0GA7eWbbiHW5",
        "outputId": "dac85e04-460c-4a90-bdac-c39eb8fe454d"
      },
      "execution_count": null,
      "outputs": [
        {
          "output_type": "stream",
          "name": "stdout",
          "text": [
            "JONATHAN\n",
            "jonathan\n"
          ]
        }
      ]
    },
    {
      "cell_type": "code",
      "source": [
        "#replace fuction\n",
        "car = \"toyota car owner\"\n",
        "replace = car.replace(\"toyota\",\"lanbogini\")\n",
        "print(replace)"
      ],
      "metadata": {
        "colab": {
          "base_uri": "https://localhost:8080/"
        },
        "id": "0mLWVTbkiipI",
        "outputId": "49b21791-ad4d-4011-f92d-b8d844942bc9"
      },
      "execution_count": null,
      "outputs": [
        {
          "output_type": "stream",
          "name": "stdout",
          "text": [
            "lanbogini car owner\n"
          ]
        }
      ]
    },
    {
      "cell_type": "code",
      "source": [
        "#Given the string \"PYTHON\", extract and print the fourth characters using their positions\n",
        "word = 'python'\n",
        "print(word[3])"
      ],
      "metadata": {
        "colab": {
          "base_uri": "https://localhost:8080/"
        },
        "id": "Ma3_xZxtjJuK",
        "outputId": "e5f50c34-0889-483e-b818-a6be369b6ed0"
      },
      "execution_count": null,
      "outputs": [
        {
          "output_type": "stream",
          "name": "stdout",
          "text": [
            "h\n"
          ]
        }
      ]
    },
    {
      "cell_type": "code",
      "source": [
        "#Given the string \"PYTHON\", extract and print the second-to-last characters using negative indexing.\n",
        "word = 'python'\n",
        "print(word[4])"
      ],
      "metadata": {
        "colab": {
          "base_uri": "https://localhost:8080/"
        },
        "id": "-lxHDr-FkFvp",
        "outputId": "bebf4139-420f-4cb7-b2b1-5a49145fdab4"
      },
      "execution_count": null,
      "outputs": [
        {
          "output_type": "stream",
          "name": "stdout",
          "text": [
            "o\n"
          ]
        }
      ]
    },
    {
      "cell_type": "code",
      "source": [
        "#Given the string \"PYTHON\", extract and print the second-to-last characters using negative indexing.\n",
        "word = 'python'\n",
        "print(word[-1])"
      ],
      "metadata": {
        "colab": {
          "base_uri": "https://localhost:8080/"
        },
        "id": "vAy6fm0OkNPg",
        "outputId": "1ff8b625-3c02-491f-c17e-43e67f9fd169"
      },
      "execution_count": null,
      "outputs": [
        {
          "output_type": "stream",
          "name": "stdout",
          "text": [
            "n\n"
          ]
        }
      ]
    },
    {
      "cell_type": "code",
      "source": [
        "#Extract the substring \"THON\" from the string \"PYTHON\".\n",
        "word = 'python'\n",
        "print(word[2:5])"
      ],
      "metadata": {
        "colab": {
          "base_uri": "https://localhost:8080/"
        },
        "id": "5efRW0LLn_9A",
        "outputId": "b32d8c8c-2251-403f-b80e-7c7501e7dae9"
      },
      "execution_count": null,
      "outputs": [
        {
          "output_type": "stream",
          "name": "stdout",
          "text": [
            "tho\n"
          ]
        }
      ]
    },
    {
      "cell_type": "code",
      "source": [
        "#Extract every second character from the string \"PYTHON\" starting from the first character.\n",
        "word = 'python'\n",
        "print(word[0:5:2])"
      ],
      "metadata": {
        "colab": {
          "base_uri": "https://localhost:8080/"
        },
        "id": "Qiz3-ih5kNL6",
        "outputId": "82b992f4-35b7-4fd8-a0e3-33f7dcd6a42f"
      },
      "execution_count": null,
      "outputs": [
        {
          "output_type": "stream",
          "name": "stdout",
          "text": [
            "pto\n"
          ]
        }
      ]
    },
    {
      "cell_type": "code",
      "source": [
        "#Find the length of the string \"Hello, World!\".\n",
        "word = 'python'\n",
        "len(word)"
      ],
      "metadata": {
        "colab": {
          "base_uri": "https://localhost:8080/"
        },
        "id": "GWt6BdDpkNJA",
        "outputId": "e1a07c97-d347-4480-8feb-e96555361ffb"
      },
      "execution_count": null,
      "outputs": [
        {
          "output_type": "execute_result",
          "data": {
            "text/plain": [
              "6"
            ]
          },
          "metadata": {},
          "execution_count": 22
        }
      ]
    },
    {
      "cell_type": "code",
      "source": [
        "#Combine the strings \"Hello\" and \"World\" with a space in between.\n",
        "print(\"hello\"+ \" \" + \"world\")"
      ],
      "metadata": {
        "colab": {
          "base_uri": "https://localhost:8080/"
        },
        "id": "SZIyHzD8kNGV",
        "outputId": "d5fb6313-420f-4a20-80c2-ef73c435f152"
      },
      "execution_count": null,
      "outputs": [
        {
          "output_type": "stream",
          "name": "stdout",
          "text": [
            "hello world\n"
          ]
        }
      ]
    },
    {
      "cell_type": "code",
      "source": [
        "#Print the following text using escape sequences:\n",
        "print(\"hellow \\n \\t  world\")\n"
      ],
      "metadata": {
        "colab": {
          "base_uri": "https://localhost:8080/"
        },
        "id": "owzttCj7kNDk",
        "outputId": "9fa9d3b0-5bb6-42e7-b4b5-79152bc650f6"
      },
      "execution_count": null,
      "outputs": [
        {
          "output_type": "stream",
          "name": "stdout",
          "text": [
            "hellow \n",
            " \t  world\n"
          ]
        }
      ]
    },
    {
      "cell_type": "code",
      "source": [
        "#Convert \"Python Programming\" to uppercase and lowercase.\n",
        "upper = \"Python Programming\"\n",
        "print (upper.upper())\n",
        "print (upper.lower())"
      ],
      "metadata": {
        "colab": {
          "base_uri": "https://localhost:8080/"
        },
        "id": "m9blEJmNkM0W",
        "outputId": "eaf17a30-3691-47e9-c30c-ba3a8cde9d03"
      },
      "execution_count": null,
      "outputs": [
        {
          "output_type": "stream",
          "name": "stdout",
          "text": [
            "PYTHON PROGRAMMING\n",
            "python programming\n"
          ]
        }
      ]
    },
    {
      "cell_type": "code",
      "source": [
        "#Replace the word \"Python\" with \"Java\" in the string \"I love Python.\n",
        "print(\"python is the best programing language\")\n",
        "replace = \"python is the best programing language\"\n",
        "print(replace.replace(\"python\",\"java\"))"
      ],
      "metadata": {
        "colab": {
          "base_uri": "https://localhost:8080/"
        },
        "id": "jks2guYAkuxc",
        "outputId": "2cdd7ed8-a6b3-4c79-b1b0-2d77c1cd11c4"
      },
      "execution_count": null,
      "outputs": [
        {
          "output_type": "stream",
          "name": "stdout",
          "text": [
            "python is the best programing language\n",
            "java is the best programing language\n"
          ]
        }
      ]
    }
  ]
}
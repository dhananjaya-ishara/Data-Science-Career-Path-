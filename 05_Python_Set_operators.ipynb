{
  "nbformat": 4,
  "nbformat_minor": 0,
  "metadata": {
    "colab": {
      "provenance": []
    },
    "kernelspec": {
      "name": "python3",
      "display_name": "Python 3"
    },
    "language_info": {
      "name": "python"
    }
  },
  "cells": [
    {
      "cell_type": "markdown",
      "source": [
        "#Python Set operators"
      ],
      "metadata": {
        "id": "MZny7knATL4M"
      }
    },
    {
      "cell_type": "code",
      "source": [
        "set1 = {1, 2, 3, 4, 5}\n",
        "print(set1)"
      ],
      "metadata": {
        "colab": {
          "base_uri": "https://localhost:8080/"
        },
        "id": "pCBbzvImTQyH",
        "outputId": "2cd979cb-7e36-41d7-adb6-53cf4c206054"
      },
      "execution_count": null,
      "outputs": [
        {
          "output_type": "stream",
          "name": "stdout",
          "text": [
            "{1, 2, 3, 4, 5}\n"
          ]
        }
      ]
    },
    {
      "cell_type": "code",
      "source": [
        "#list to  set conversion\n",
        "mylist = [1, 2, 3, 4, 5]\n",
        "myset = set(mylist)\n",
        "print(\"orginal list :\",mylist)\n",
        "print(\"set:\",myset)"
      ],
      "metadata": {
        "colab": {
          "base_uri": "https://localhost:8080/"
        },
        "id": "ft4a5H0VaKOj",
        "outputId": "085b7d54-a9d3-4432-ed9e-cc2a3e52ef48"
      },
      "execution_count": null,
      "outputs": [
        {
          "output_type": "stream",
          "name": "stdout",
          "text": [
            "orginal list : [1, 2, 3, 4, 5]\n",
            "set: {1, 2, 3, 4, 5}\n"
          ]
        }
      ]
    },
    {
      "cell_type": "code",
      "source": [
        "#add set element\n",
        "new_set={1,2,3}\n",
        "new_set.add(4)\n",
        "print(\"after adding :\",new_set)"
      ],
      "metadata": {
        "colab": {
          "base_uri": "https://localhost:8080/"
        },
        "id": "Chj2npYdasZT",
        "outputId": "a995af96-85c8-484d-d979-a9efcd8d443c"
      },
      "execution_count": null,
      "outputs": [
        {
          "output_type": "stream",
          "name": "stdout",
          "text": [
            "after adding : {1, 2, 3, 4}\n"
          ]
        }
      ]
    },
    {
      "cell_type": "code",
      "source": [
        "#update set element\n",
        "new_set={1,2,3}\n",
        "new_set.update([4,5,6])#that use to add multiple value at once\n",
        "print(\"after update :\",new_set)"
      ],
      "metadata": {
        "colab": {
          "base_uri": "https://localhost:8080/"
        },
        "id": "Uirf2gApa31P",
        "outputId": "f2abf4ca-f62b-4f04-d371-8b19d1cbcfd1"
      },
      "execution_count": null,
      "outputs": [
        {
          "output_type": "stream",
          "name": "stdout",
          "text": [
            "after update : {1, 2, 3, 4, 5, 6}\n"
          ]
        }
      ]
    },
    {
      "cell_type": "code",
      "source": [
        "#remove set element\n",
        "new_set={1,2,3,4,5}\n",
        "new_set.remove(3)\n",
        "print(\"after remove :\",new_set)"
      ],
      "metadata": {
        "colab": {
          "base_uri": "https://localhost:8080/"
        },
        "id": "CrI29IXebc00",
        "outputId": "0a968f51-079b-42da-efa7-2cf4dfc3da61"
      },
      "execution_count": null,
      "outputs": [
        {
          "output_type": "stream",
          "name": "stdout",
          "text": [
            "after remove : {1, 2, 4, 5}\n"
          ]
        }
      ]
    },
    {
      "cell_type": "code",
      "source": [
        "#discrad set elements\n",
        "new_set={1,2,3,4,5}\n",
        "new_set.discard(30)#does nothing(30 is not in the set .but not giving an error corde)\n",
        "print(\"after discrad :\",new_set)"
      ],
      "metadata": {
        "colab": {
          "base_uri": "https://localhost:8080/"
        },
        "id": "KYXXGy9Nbtjn",
        "outputId": "89d5cfa1-8cc3-4a67-b99f-de733245f0e9"
      },
      "execution_count": null,
      "outputs": [
        {
          "output_type": "stream",
          "name": "stdout",
          "text": [
            "after discrad : {1, 2, 3, 4, 5}\n"
          ]
        }
      ]
    },
    {
      "cell_type": "code",
      "source": [
        "#set union .that remove dublicate value in marging the sets\n",
        "set1 = {1, 2, 3}\n",
        "set2 = {3, 4, 5}\n",
        "union_set = set1.union(set2)\n",
        "print(\"union_set :\",union_set)"
      ],
      "metadata": {
        "colab": {
          "base_uri": "https://localhost:8080/"
        },
        "id": "Kwa6J1IRcNG3",
        "outputId": "18160305-4cbe-43c1-bcfc-d861164353cb"
      },
      "execution_count": null,
      "outputs": [
        {
          "output_type": "stream",
          "name": "stdout",
          "text": [
            "union_set : {1, 2, 3, 4, 5}\n"
          ]
        }
      ]
    },
    {
      "cell_type": "code",
      "source": [
        "#same as union function(|)\n",
        "set1 = {1, 2, 3}\n",
        "set2 = {3, 4, 5}\n",
        "union_set = set1|set2\n",
        "print(\"union_set :\",union_set)"
      ],
      "metadata": {
        "colab": {
          "base_uri": "https://localhost:8080/"
        },
        "id": "SdRfegVOcvFg",
        "outputId": "1049d862-2b8b-48de-9811-d194582b6a6d"
      },
      "execution_count": null,
      "outputs": [
        {
          "output_type": "stream",
          "name": "stdout",
          "text": [
            "union_set : {1, 2, 3, 4, 5}\n"
          ]
        }
      ]
    },
    {
      "cell_type": "code",
      "source": [
        "#set intersection .find common element in given sets\n",
        "set1 = {1, 2, 3}\n",
        "set2 = {3, 4, 5}\n",
        "intersection_set = set1.intersection(set2)\n",
        "print(\"intersection_set :\",intersection_set)"
      ],
      "metadata": {
        "colab": {
          "base_uri": "https://localhost:8080/"
        },
        "id": "BsktsOF5c4Dl",
        "outputId": "be0f03af-f11e-4f67-c920-6eab0ba69647"
      },
      "execution_count": null,
      "outputs": [
        {
          "output_type": "stream",
          "name": "stdout",
          "text": [
            "intersection_set : {3}\n"
          ]
        }
      ]
    },
    {
      "cell_type": "code",
      "source": [
        "#same as intersection function(&)\n",
        "set1 = {1, 2, 3}\n",
        "set2 = {3, 4, 5}\n",
        "intersection_set = set1&set2\n",
        "print(\"intersection_set :\",intersection_set)"
      ],
      "metadata": {
        "colab": {
          "base_uri": "https://localhost:8080/"
        },
        "id": "s40AU8xsdI0u",
        "outputId": "5d81ffb4-84e9-4bce-daca-87d764780190"
      },
      "execution_count": null,
      "outputs": [
        {
          "output_type": "stream",
          "name": "stdout",
          "text": [
            "intersection_set : {3}\n"
          ]
        }
      ]
    },
    {
      "cell_type": "code",
      "execution_count": null,
      "metadata": {
        "colab": {
          "base_uri": "https://localhost:8080/"
        },
        "id": "EF4_dRK86r-z",
        "outputId": "83d24312-dc66-4984-d4ff-8352643cf754"
      },
      "outputs": [
        {
          "output_type": "stream",
          "name": "stdout",
          "text": [
            "{40, 10, 15, 20, 25, 30}\n"
          ]
        }
      ],
      "source": [
        "#You are given a list: [10, 15, 20, 25, 15, 30, 20, 40]. Your task is to convert this list into a set to remove duplicate elements.\n",
        "m = [10, 15, 20, 25, 15, 30, 20, 40]\n",
        "n = set(m)\n",
        "print(n)"
      ]
    },
    {
      "cell_type": "code",
      "source": [
        "#You have a set {5, 10, 15, 20}. Add the number 25 to the set. Then display the updated set.\n",
        "set1 = {5, 10, 15, 20}\n",
        "set1.add(25)\n",
        "print(set1)"
      ],
      "metadata": {
        "colab": {
          "base_uri": "https://localhost:8080/"
        },
        "id": "m0SSQ65nSlmO",
        "outputId": "0d84d335-ce83-41cd-f6fa-9014bc2b1d5c"
      },
      "execution_count": null,
      "outputs": [
        {
          "output_type": "stream",
          "name": "stdout",
          "text": [
            "{5, 10, 15, 20, 25}\n"
          ]
        }
      ]
    },
    {
      "cell_type": "code",
      "source": [
        "#You are given a set {50, 60, 70, 80, 90}. Remove the number 70 from the set.\n",
        "set1 = {50, 60, 70, 80, 90}\n",
        "set1.remove(70)\n",
        "print(set1)"
      ],
      "metadata": {
        "colab": {
          "base_uri": "https://localhost:8080/"
        },
        "id": "knUqUWLySljP",
        "outputId": "09394f52-52e3-4683-bf60-165efd78de7a"
      },
      "execution_count": null,
      "outputs": [
        {
          "output_type": "stream",
          "name": "stdout",
          "text": [
            "{80, 50, 90, 60}\n"
          ]
        }
      ]
    },
    {
      "cell_type": "code",
      "source": [
        "#You are given two sets:\n",
        "#1. set_a = {1, 2, 3, 4, 5}\n",
        "#2. set_b = {4, 5, 6, 7, 8}\n",
        "\n",
        "#Perform a union of these two sets to combine all unique elements. Then display the resulting set.\n",
        "set_a = {1, 2, 3, 4, 5}\n",
        "set_b = {4, 5, 6, 7, 8}\n",
        "union_set = set_a.union(set_b)\n",
        "print(union_set)"
      ],
      "metadata": {
        "colab": {
          "base_uri": "https://localhost:8080/"
        },
        "id": "5BQvo3RFSlfu",
        "outputId": "d0c06e52-1c91-4af0-a4e5-8033a8d712bb"
      },
      "execution_count": null,
      "outputs": [
        {
          "output_type": "stream",
          "name": "stdout",
          "text": [
            "{1, 2, 3, 4, 5, 6, 7, 8}\n"
          ]
        }
      ]
    },
    {
      "cell_type": "code",
      "source": [
        "#You are given two sets:\n",
        "#1. set_a = {10, 20, 30, 40, 50}\n",
        "#2. set_b = {30, 40, 50, 60, 70}\n",
        "\n",
        "#Find the intersection of these sets to get only the common elements. Then display the resulting set.\n",
        "set_a = {1, 2, 3, 4, 5}\n",
        "set_b = {4, 5, 6, 7, 8}\n",
        "union_set = set_a & set_b\n",
        "print(union_set)"
      ],
      "metadata": {
        "colab": {
          "base_uri": "https://localhost:8080/"
        },
        "id": "J-WBS7E8Slcj",
        "outputId": "532f7431-73c8-41e7-ee22-ebae97b193b9"
      },
      "execution_count": null,
      "outputs": [
        {
          "output_type": "stream",
          "name": "stdout",
          "text": [
            "{4, 5}\n"
          ]
        }
      ]
    }
  ]
}
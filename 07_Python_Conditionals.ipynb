{
  "nbformat": 4,
  "nbformat_minor": 0,
  "metadata": {
    "colab": {
      "provenance": []
    },
    "kernelspec": {
      "name": "python3",
      "display_name": "Python 3"
    },
    "language_info": {
      "name": "python"
    }
  },
  "cells": [
    {
      "cell_type": "markdown",
      "source": [
        "#Python Conditionals branching"
      ],
      "metadata": {
        "id": "HO6aqFmctURf"
      }
    },
    {
      "cell_type": "code",
      "execution_count": null,
      "metadata": {
        "colab": {
          "base_uri": "https://localhost:8080/"
        },
        "id": "zkxv-CyeWwIw",
        "outputId": "6c275190-f458-4474-e1ee-a82ec70c0cf0"
      },
      "outputs": [
        {
          "output_type": "stream",
          "name": "stdout",
          "text": [
            "x is greater than 5\n"
          ]
        }
      ],
      "source": [
        "#condition\n",
        "x = 10\n",
        "if x > 5:\n",
        " print(\"x is greater than 5\")"
      ]
    },
    {
      "cell_type": "code",
      "source": [
        "#comparison operators\n",
        "#==\n",
        "5 == 5"
      ],
      "metadata": {
        "colab": {
          "base_uri": "https://localhost:8080/"
        },
        "id": "DT-XAXNW_esh",
        "outputId": "dbbdeb00-eece-4640-a559-9126bae5c0b3"
      },
      "execution_count": null,
      "outputs": [
        {
          "output_type": "execute_result",
          "data": {
            "text/plain": [
              "True"
            ]
          },
          "metadata": {},
          "execution_count": 7
        }
      ]
    },
    {
      "cell_type": "code",
      "source": [
        "#!=\n",
        "5 != 3"
      ],
      "metadata": {
        "colab": {
          "base_uri": "https://localhost:8080/"
        },
        "id": "VsLzzO9w_yrf",
        "outputId": "34dd73c4-fb5d-4e04-e52d-c06c17b7f4c5"
      },
      "execution_count": null,
      "outputs": [
        {
          "output_type": "execute_result",
          "data": {
            "text/plain": [
              "True"
            ]
          },
          "metadata": {},
          "execution_count": 8
        }
      ]
    },
    {
      "cell_type": "code",
      "source": [
        "# >\n",
        "7>3"
      ],
      "metadata": {
        "colab": {
          "base_uri": "https://localhost:8080/"
        },
        "id": "PeLofFacAAkT",
        "outputId": "3a0a1bc6-233a-4826-ff26-7533b51917a4"
      },
      "execution_count": null,
      "outputs": [
        {
          "output_type": "execute_result",
          "data": {
            "text/plain": [
              "True"
            ]
          },
          "metadata": {},
          "execution_count": 9
        }
      ]
    },
    {
      "cell_type": "code",
      "source": [
        "# <\n",
        "3 < 7"
      ],
      "metadata": {
        "colab": {
          "base_uri": "https://localhost:8080/"
        },
        "id": "9UAgZ6QgAHEb",
        "outputId": "cc5e7791-e80b-4908-d6ce-3e3949e55fea"
      },
      "execution_count": null,
      "outputs": [
        {
          "output_type": "execute_result",
          "data": {
            "text/plain": [
              "True"
            ]
          },
          "metadata": {},
          "execution_count": 13
        }
      ]
    },
    {
      "cell_type": "code",
      "source": [
        "#>=\n",
        "6 >= 6"
      ],
      "metadata": {
        "colab": {
          "base_uri": "https://localhost:8080/"
        },
        "id": "VZDHBCV0APbb",
        "outputId": "4056abf2-8391-4862-e58f-b63373972d9a"
      },
      "execution_count": null,
      "outputs": [
        {
          "output_type": "execute_result",
          "data": {
            "text/plain": [
              "True"
            ]
          },
          "metadata": {},
          "execution_count": 11
        }
      ]
    },
    {
      "cell_type": "code",
      "source": [
        "# <=\n",
        "2 <= 5"
      ],
      "metadata": {
        "colab": {
          "base_uri": "https://localhost:8080/"
        },
        "id": "GTBiRfE7AUDn",
        "outputId": "d6dcca62-a3af-4a25-db9d-04c52c597d7a"
      },
      "execution_count": null,
      "outputs": [
        {
          "output_type": "execute_result",
          "data": {
            "text/plain": [
              "True"
            ]
          },
          "metadata": {},
          "execution_count": 12
        }
      ]
    },
    {
      "cell_type": "code",
      "source": [
        "a = 10\n",
        "b = 20\n",
        "print(a == b)\n",
        "print(a != b)\n",
        "print(a > b)\n",
        "print(a < b)\n",
        "print(a >= b)\n",
        "print(a <= b)"
      ],
      "metadata": {
        "colab": {
          "base_uri": "https://localhost:8080/"
        },
        "id": "sgLYfGJuAj_4",
        "outputId": "57e18168-2add-4b4e-9cc3-9abba1269295"
      },
      "execution_count": null,
      "outputs": [
        {
          "output_type": "stream",
          "name": "stdout",
          "text": [
            "False\n",
            "True\n",
            "False\n",
            "True\n",
            "False\n",
            "True\n"
          ]
        }
      ]
    },
    {
      "cell_type": "code",
      "source": [
        "#branching\n",
        "#if\n",
        "age = 18\n",
        "if age >= 18:\n",
        " print(\"You are eligible to vote\")"
      ],
      "metadata": {
        "colab": {
          "base_uri": "https://localhost:8080/"
        },
        "id": "ibQYe2lYA545",
        "outputId": "52078291-1880-4e74-f355-50879b1a8a3a"
      },
      "execution_count": null,
      "outputs": [
        {
          "output_type": "stream",
          "name": "stdout",
          "text": [
            "You are eligible to vote\n"
          ]
        }
      ]
    },
    {
      "cell_type": "code",
      "source": [
        "#if else\n",
        "age = 11\n",
        "if age >= 18:\n",
        " print(\"You are eligible to vote\")\n",
        "else:\n",
        " print(\"You are not eligible to vote\")"
      ],
      "metadata": {
        "colab": {
          "base_uri": "https://localhost:8080/"
        },
        "id": "y3F-CA8yBL8z",
        "outputId": "7633fb34-8264-4745-9108-10b215ff9dbe"
      },
      "execution_count": null,
      "outputs": [
        {
          "output_type": "stream",
          "name": "stdout",
          "text": [
            "You are not eligible to vote\n"
          ]
        }
      ]
    },
    {
      "cell_type": "code",
      "source": [
        "#if- elif -else\n",
        "score = 85\n",
        "if score >= 90:\n",
        " print(\"Grade: A\")\n",
        "elif score >= 80:\n",
        " print(\"Grade: B\")\n",
        "else:\n",
        "  print(\"Grade: C\")"
      ],
      "metadata": {
        "colab": {
          "base_uri": "https://localhost:8080/"
        },
        "id": "Ep9FmfQzB5x_",
        "outputId": "25cdc93b-f7cc-4543-ced3-442fd79eefd9"
      },
      "execution_count": null,
      "outputs": [
        {
          "output_type": "stream",
          "name": "stdout",
          "text": [
            "Grade: B\n"
          ]
        }
      ]
    },
    {
      "cell_type": "code",
      "source": [
        "#if else stetment + or\n",
        "if 5 > 2 or 3 > 1:\n",
        " print(\"At least one condition is true\")"
      ],
      "metadata": {
        "colab": {
          "base_uri": "https://localhost:8080/"
        },
        "id": "Jv6s-VLECXv8",
        "outputId": "d22c472c-8764-45bc-e44f-ac6b3036fbcc"
      },
      "execution_count": null,
      "outputs": [
        {
          "output_type": "stream",
          "name": "stdout",
          "text": [
            "At least one condition is true\n"
          ]
        }
      ]
    },
    {
      "cell_type": "code",
      "source": [
        "#if else stetment + and\n",
        "if 5 > 2 and 3 > 1:\n",
        " print(\"Both conditions are true\")"
      ],
      "metadata": {
        "colab": {
          "base_uri": "https://localhost:8080/"
        },
        "id": "UUQsg69-ClkG",
        "outputId": "e32998e5-d8cc-462a-92b8-f7d3c267d819"
      },
      "execution_count": null,
      "outputs": [
        {
          "output_type": "stream",
          "name": "stdout",
          "text": [
            "Both conditions are true\n"
          ]
        }
      ]
    },
    {
      "cell_type": "markdown",
      "source": [
        "#### Problem 1:\n",
        "\n",
        "You are working on a wildlife monitoring program that needs to classify animals based on the speed they can run. Create a Python code snippet that determines the category of an animal based on its speed (in kilometers per hour). Use the following classifications:\n",
        "\n",
        "1. If the speed is greater than or equal to 60 km/h, the animal is categorized as a \"Fast Runner.\"\n",
        "2. If the speed is between 30 km/h and 59 km/h (inclusive), the animal is categorized as a \"Moderate Runner.\"\n",
        "3. If the speed is less than 30 km/h, the animal is categorized as a \"Slow Mover.\"\n",
        "\n",
        "\n",
        "Define a variable animal_speed and set it to 45 to test the program."
      ],
      "metadata": {
        "id": "GXxT61NuDYpT"
      }
    },
    {
      "cell_type": "code",
      "source": [
        "animal_speed = 45\n",
        "\n",
        "if animal_speed >= 60:\n",
        "    print(\"Fast Runner\")\n",
        "elif 30 <= animal_speed <= 59:\n",
        "    print(\"Moderate Runner\")\n",
        "else:\n",
        "    print(\"Slow Mover\")"
      ],
      "metadata": {
        "colab": {
          "base_uri": "https://localhost:8080/"
        },
        "id": "SGuhVnggC8Vo",
        "outputId": "9027fb44-f347-41a9-ac8c-2de61e8b4f64"
      },
      "execution_count": null,
      "outputs": [
        {
          "output_type": "stream",
          "name": "stdout",
          "text": [
            "Moderate Runner\n"
          ]
        }
      ]
    },
    {
      "cell_type": "markdown",
      "source": [
        "You are developing a ticketing system for an amusement park that offers discounted tickets for children.\n",
        "\n",
        "**A child is eligible for a discounted ticket only if their age is between 3 and 12 years inclusive and their height is less than 140 cm.**\n",
        "\n",
        "Write a Python program that checks whether a child qualifies for a discounted ticket. Define two variables: child_age = 10 child_height = 135 to test the program."
      ],
      "metadata": {
        "id": "Y-GbJ5mWDi_-"
      }
    },
    {
      "cell_type": "code",
      "source": [
        "child_age = 10\n",
        "child_height = 135\n",
        "\n",
        "if 3 <= child_age <= 12 and child_height < 140:\n",
        "    print(\"Eligible for the discounted ticket\")\n",
        "else:\n",
        "    print(\"Not Eligible\")"
      ],
      "metadata": {
        "id": "2nvZbD3TD4Eb"
      },
      "execution_count": null,
      "outputs": []
    },
    {
      "cell_type": "markdown",
      "source": [
        "#### Problem 3:\n",
        "\n",
        "You are designing a system to determine whether a car can participate in an eco-friendly car race. The car must meet the following conditions:\n",
        "\n",
        "1. The car's fuel type must be \"Electric\" or \"Hybrid.\"\n",
        "2. If the car is \"Hybrid,\" its fuel efficiency must be greater than or equal to 25 kilometers per liter (km/l).\n",
        "\n",
        "Write a Python program that determines if the car qualifies for the race. Define two variables: fuel_type = \"Hybrid\" and fuel_efficiency = 28 to test the program."
      ],
      "metadata": {
        "id": "OPBZbTkCD4fd"
      }
    },
    {
      "cell_type": "code",
      "source": [
        "fuel_type = \"Hybrid\"\n",
        "fuel_efficiency = 28\n",
        "\n",
        "if fuel_type == \"Hybrid\" or fuel_type == \"Electric\":\n",
        "    if fuel_type == \"Hybrid\" and fuel_efficiency >= 25:\n",
        "        print(\"Eligible for the ecofriendy car race.\")\n",
        "    elif fuel_type == \"Electric\":\n",
        "        print(\"Eligible for the ecofriendy car race.\")\n",
        "    else:\n",
        "        print(\"Not eligible for the ecofriendly race.\")\n",
        "\n",
        "else:\n",
        "    print(\"Not eligible for the ecofriendly race due to unsupported fuel type.\")"
      ],
      "metadata": {
        "colab": {
          "base_uri": "https://localhost:8080/"
        },
        "id": "0GMuCmMfD7xN",
        "outputId": "4d0efab2-2606-4af0-a494-ea86cd875b58"
      },
      "execution_count": null,
      "outputs": [
        {
          "output_type": "stream",
          "name": "stdout",
          "text": [
            "Eligible for the ecofriendy car race.\n"
          ]
        }
      ]
    }
  ]
}
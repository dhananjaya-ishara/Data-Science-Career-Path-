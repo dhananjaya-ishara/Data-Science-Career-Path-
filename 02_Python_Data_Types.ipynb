{
  "nbformat": 4,
  "nbformat_minor": 0,
  "metadata": {
    "colab": {
      "provenance": []
    },
    "kernelspec": {
      "name": "python3",
      "display_name": "Python 3"
    },
    "language_info": {
      "name": "python"
    }
  },
  "cells": [
    {
      "cell_type": "markdown",
      "source": [
        "#understanding data type"
      ],
      "metadata": {
        "id": "lMXnIjpuTQir"
      }
    },
    {
      "cell_type": "markdown",
      "source": [
        "Integer (int) - Represents whole numbers (e.g.,5, -20).\n",
        "\n",
        "Float - Represents decimal numbers (e.g., 3.14, -7.89).\n",
        "\n",
        "String (str) - Represents text data (e.g., \"Hello\", 'Python').\n",
        "\n",
        "Boolean (bool) - Represents True/False values."
      ],
      "metadata": {
        "id": "FAQnyGsXTu4k"
      }
    },
    {
      "cell_type": "code",
      "execution_count": null,
      "metadata": {
        "colab": {
          "base_uri": "https://localhost:8080/"
        },
        "id": "M9nGehtE6pz3",
        "outputId": "79eba35f-6a37-4a23-e572-6e18c0cba637"
      },
      "outputs": [
        {
          "output_type": "stream",
          "name": "stdout",
          "text": [
            "dhanavhi\n"
          ]
        }
      ],
      "source": [
        "#Integer (int) - Represents whole numbers .\n",
        "age = 25\n",
        "temperature = -10\n",
        "population = 1000000\n",
        "#Float - Represents decimal numbers .\n",
        "pi = 3.14\n",
        "price = 19.99\n",
        "x = 1.5e2\n",
        "#String (str) - Represents text data .\n",
        "name = \"dhana\"\n",
        "hi = \"vhi\"\n",
        "print(name+ hi)#concatenation\n",
        "#Boolean (bool) - Represents True/False values.\n",
        "is_raining = False\n",
        "is_sunny = True\n",
        "is_valid = True\n",
        "comparisn = 10>5\n",
        "chek = bool(\"\")\n"
      ]
    },
    {
      "cell_type": "markdown",
      "source": [
        "#type castin"
      ],
      "metadata": {
        "id": "LYwhGPDzWmD8"
      }
    },
    {
      "cell_type": "markdown",
      "source": [
        "int() - Converts data to an integer.\n",
        "\n",
        "float() - Converts data to a float.\n",
        "\n",
        "str() - Converts data to a string.\n",
        "\n",
        "bool() - Converts data to a Boolean"
      ],
      "metadata": {
        "id": "6QQTdjr8WxLR"
      }
    },
    {
      "cell_type": "code",
      "source": [
        "num = 10\n",
        "num_float = float(num)\n",
        "print(num_float)"
      ],
      "metadata": {
        "colab": {
          "base_uri": "https://localhost:8080/"
        },
        "id": "d0Mty2iFWr8H",
        "outputId": "65014c00-eccb-4b57-8a56-fcfceda1235e"
      },
      "execution_count": null,
      "outputs": [
        {
          "output_type": "stream",
          "name": "stdout",
          "text": [
            "10.0\n"
          ]
        }
      ]
    },
    {
      "cell_type": "code",
      "source": [
        "number = \"5\"\n",
        "int_num = int(number)\n",
        "print(int_num, type(int_num))"
      ],
      "metadata": {
        "colab": {
          "base_uri": "https://localhost:8080/"
        },
        "id": "d2FItdiachrs",
        "outputId": "b12d1151-3a8f-4e2f-a283-861ba8350d85"
      },
      "execution_count": null,
      "outputs": [
        {
          "output_type": "stream",
          "name": "stdout",
          "text": [
            "5 <class 'int'>\n"
          ]
        }
      ]
    },
    {
      "cell_type": "code",
      "source": [
        "pi = 3.14\n",
        "pi_int = int(pi)\n",
        "print(pi_int,type(pi_int))"
      ],
      "metadata": {
        "colab": {
          "base_uri": "https://localhost:8080/"
        },
        "id": "fz2WgyLnXZ1q",
        "outputId": "b41c54b0-0c99-40a1-c366-9d4e8ec0967f"
      },
      "execution_count": null,
      "outputs": [
        {
          "output_type": "stream",
          "name": "stdout",
          "text": [
            "3 <class 'int'>\n"
          ]
        }
      ]
    },
    {
      "cell_type": "code",
      "source": [
        "text = \"42\"\n",
        "text_int = int(text)\n",
        "print(text_int,type(text_int))"
      ],
      "metadata": {
        "colab": {
          "base_uri": "https://localhost:8080/"
        },
        "id": "R-voJQjiXZqe",
        "outputId": "3eab2000-c3d4-4e44-ada4-724484262351"
      },
      "execution_count": null,
      "outputs": [
        {
          "output_type": "stream",
          "name": "stdout",
          "text": [
            "42 <class 'int'>\n"
          ]
        }
      ]
    },
    {
      "cell_type": "code",
      "source": [
        "is_empty = bool(\"\")\n",
        "print(is_empty,type(is_empty))"
      ],
      "metadata": {
        "colab": {
          "base_uri": "https://localhost:8080/"
        },
        "id": "PA80uRzqXZXg",
        "outputId": "d349134f-d0c9-4e75-da69-22ac277a7024"
      },
      "execution_count": null,
      "outputs": [
        {
          "output_type": "stream",
          "name": "stdout",
          "text": [
            "False <class 'bool'>\n"
          ]
        }
      ]
    },
    {
      "cell_type": "code",
      "source": [
        "is_empty = bool(\"hi\")\n",
        "print(is_empty,type(is_empty))"
      ],
      "metadata": {
        "colab": {
          "base_uri": "https://localhost:8080/"
        },
        "id": "rHR3qsy1Xuzl",
        "outputId": "dc101605-1934-42a8-c366-cd5f3aaa1e1b"
      },
      "execution_count": null,
      "outputs": [
        {
          "output_type": "stream",
          "name": "stdout",
          "text": [
            "True <class 'bool'>\n"
          ]
        }
      ]
    },
    {
      "cell_type": "code",
      "source": [
        "is_active = True\n",
        "type(is_active)\n",
        "str_bool = str(is_active)\n",
        "print(str_bool,type(str_bool))"
      ],
      "metadata": {
        "colab": {
          "base_uri": "https://localhost:8080/"
        },
        "id": "pW-aFraGcWvL",
        "outputId": "7ec42975-f829-404f-d7b7-252a82b71106"
      },
      "execution_count": null,
      "outputs": [
        {
          "output_type": "stream",
          "name": "stdout",
          "text": [
            "True <class 'str'>\n"
          ]
        }
      ]
    }
  ]
}
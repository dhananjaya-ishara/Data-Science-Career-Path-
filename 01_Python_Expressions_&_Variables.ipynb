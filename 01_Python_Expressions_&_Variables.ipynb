{
  "nbformat": 4,
  "nbformat_minor": 0,
  "metadata": {
    "colab": {
      "provenance": []
    },
    "kernelspec": {
      "name": "python3",
      "display_name": "Python 3"
    },
    "language_info": {
      "name": "python"
    }
  },
  "cells": [
    {
      "cell_type": "code",
      "execution_count": null,
      "metadata": {
        "colab": {
          "base_uri": "https://localhost:8080/"
        },
        "id": "nQfeQVIs6lw5",
        "outputId": "3f1bcbe8-9bb6-4d26-d13b-378bf32434ad"
      },
      "outputs": [
        {
          "output_type": "execute_result",
          "data": {
            "text/plain": [
              "5"
            ]
          },
          "metadata": {},
          "execution_count": 1
        }
      ],
      "source": [
        "a=2\n",
        "b=4\n",
        "X=10\n",
        "5 + 3 #add 5 and 3\n",
        "X * 7 # multiplies thha value of x by 7\n",
        "(a+b)/2 #calculates the average of a and b\n",
        "len(\"hello\") #find the lenght of the sting \"hello\"\n"
      ]
    },
    {
      "cell_type": "markdown",
      "source": [
        "##operands and operator ##"
      ],
      "metadata": {
        "id": "ugLcz_6RIKYz"
      }
    },
    {
      "cell_type": "code",
      "source": [
        "5 + 3 # operands 5 and 3 #operator +"
      ],
      "metadata": {
        "colab": {
          "base_uri": "https://localhost:8080/"
        },
        "id": "_gvoEBupHwtQ",
        "outputId": "f7d9c3c9-61a7-474c-9079-c85db95b8b9d"
      },
      "execution_count": null,
      "outputs": [
        {
          "output_type": "execute_result",
          "data": {
            "text/plain": [
              "8"
            ]
          },
          "metadata": {},
          "execution_count": 2
        }
      ]
    },
    {
      "cell_type": "markdown",
      "source": [
        "variable"
      ],
      "metadata": {
        "id": "2N09YfkhIHBi"
      }
    },
    {
      "cell_type": "code",
      "source": [
        "age = 25 #int\n",
        "name = \"joon\" #string\n",
        "pi = 3.14 #float\n",
        "is_active = True #boolean"
      ],
      "metadata": {
        "id": "VKesELdFH8Ip"
      },
      "execution_count": null,
      "outputs": []
    },
    {
      "cell_type": "markdown",
      "source": [
        "expression within variable"
      ],
      "metadata": {
        "id": "1dY0mky8JYTa"
      }
    },
    {
      "cell_type": "code",
      "source": [
        "result = 5 + 3 #expression\n",
        "print(result)"
      ],
      "metadata": {
        "colab": {
          "base_uri": "https://localhost:8080/"
        },
        "id": "-GRyGiPrJeea",
        "outputId": "927403c0-8797-433a-9b3e-1a818996524e"
      },
      "execution_count": null,
      "outputs": [
        {
          "output_type": "stream",
          "name": "stdout",
          "text": [
            "8\n"
          ]
        }
      ]
    },
    {
      "cell_type": "code",
      "source": [
        "a = 10\n",
        "b = 20\n",
        "sum_value = a + b\n",
        "print(sum_value)"
      ],
      "metadata": {
        "colab": {
          "base_uri": "https://localhost:8080/"
        },
        "id": "zAbRwuyKJlbk",
        "outputId": "5c7552bf-d7a1-4a70-8d98-838e0cd0cbc2"
      },
      "execution_count": null,
      "outputs": [
        {
          "output_type": "stream",
          "name": "stdout",
          "text": [
            "30\n"
          ]
        }
      ]
    },
    {
      "cell_type": "markdown",
      "source": [
        "Question:\n",
        "\n",
        "A person buys eggs over three days. On Day 1, they buy 12 eggs; on Day 2, they buy 10 eggs; and on Day 3, they buy 8 eggs.\n",
        "\n",
        "Over the three days, they use the following number of eggs:\n",
        "\n",
        "1. On Day 1, they use 5 eggs.\n",
        "2. On Day 2, they use 6 eggs.\n",
        "3. On Day 3, they use 4 eggs.\n",
        "\n",
        "Calculate:\n",
        "\n",
        "1. The total number of eggs bought over the three days.\n",
        "2. The total number of eggs used over the three days.\n",
        "3. The number of remaining eggs after using them."
      ],
      "metadata": {
        "id": "1jx9ZrGLJWbs"
      }
    },
    {
      "cell_type": "code",
      "source": [
        "Day_01 = 12\n",
        "Day_02 = 10\n",
        "Day_03 = 8\n",
        "\n",
        "total_number_of_eggs = Day_01 + Day_02 + Day_03\n",
        "print(\"total_number_of_eggs bought = \" ,total_number_of_eggs)\n",
        "\n",
        "used_Day_1 = 5\n",
        "used_Day_2 = 6\n",
        "used_Day_3 = 4\n",
        "\n",
        "total_eggs_use = used_Day_1 + used_Day_2 + used_Day_3\n",
        "print(\"total_number_of_used_eggs = \" ,total_eggs_use)\n",
        "\n",
        "reamaining_eggs =total_number_of_eggs -  total_eggs_use\n",
        "print(\"reamaining_eggs = \" ,reamaining_eggs)"
      ],
      "metadata": {
        "colab": {
          "base_uri": "https://localhost:8080/"
        },
        "id": "Sn_BwOJhN5YM",
        "outputId": "e59a657b-1c2e-427d-d3fc-e226887250f5"
      },
      "execution_count": null,
      "outputs": [
        {
          "output_type": "stream",
          "name": "stdout",
          "text": [
            "total_number_of_eggs bought =  30\n",
            "total_number_of_used_eggs =  15\n",
            "reamaining_eggs =  15\n"
          ]
        }
      ]
    }
  ]
}
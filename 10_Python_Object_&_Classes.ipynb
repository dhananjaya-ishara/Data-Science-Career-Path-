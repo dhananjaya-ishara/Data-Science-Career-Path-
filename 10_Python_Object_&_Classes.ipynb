{
  "nbformat": 4,
  "nbformat_minor": 0,
  "metadata": {
    "colab": {
      "provenance": []
    },
    "kernelspec": {
      "name": "python3",
      "display_name": "Python 3"
    },
    "language_info": {
      "name": "python"
    }
  },
  "cells": [
    {
      "cell_type": "markdown",
      "source": [
        "#class"
      ],
      "metadata": {
        "id": "NR3JqoHa_jmX"
      }
    },
    {
      "cell_type": "markdown",
      "source": [
        "##that has  attributes and methods"
      ],
      "metadata": {
        "id": "4GCQ-2ThImqQ"
      }
    },
    {
      "cell_type": "code",
      "execution_count": null,
      "metadata": {
        "id": "-tP7KIPQ-2y8"
      },
      "outputs": [],
      "source": [
        "class car:\n",
        "  #attribtes\n",
        "  brand = \"toyota\"\n",
        "  wheels = 4\n",
        "\n",
        "   #methord\n",
        "  def start_engine(self):\n",
        "    print(\"starting engine\")"
      ]
    },
    {
      "cell_type": "markdown",
      "source": [
        "#object"
      ],
      "metadata": {
        "id": "C-AA3LILJfXf"
      }
    },
    {
      "cell_type": "code",
      "source": [
        "#creat an object of the car class\n",
        "mycar = car()\n",
        "\n",
        "#access object properties\n",
        "print(mycar.brand)\n",
        "print(mycar.wheels)\n",
        "\n",
        "#call object methods\n",
        "print(mycar.start_engine())"
      ],
      "metadata": {
        "colab": {
          "base_uri": "https://localhost:8080/"
        },
        "id": "qGRZEaQTJiTb",
        "outputId": "b1514cad-bcc4-4c16-8ad0-48d9824d5a73"
      },
      "execution_count": null,
      "outputs": [
        {
          "output_type": "stream",
          "name": "stdout",
          "text": [
            "toyota\n",
            "4\n",
            "starting engine\n",
            "None\n"
          ]
        }
      ]
    },
    {
      "cell_type": "code",
      "source": [
        "#example format\n",
        "class  person:\n",
        "  attribute1 = \"person1\"\n",
        "  attribute2 = \"person2\"\n",
        "\n",
        "\n",
        "  def __init__(self,name,age):\n",
        "    self.name = name\n",
        "    self.age = age\n",
        "\n",
        "  def greet(self):\n",
        "    print(\"hello my name is \" + self.name)\n",
        "    print(\"my age is \" + self.age)\n",
        "\n",
        "object_name = person(\"john\",\"25\")\n",
        "object_name.greet()\n"
      ],
      "metadata": {
        "colab": {
          "base_uri": "https://localhost:8080/"
        },
        "id": "5B5ZgeClKzDH",
        "outputId": "4da7233c-77f4-4bf3-d4d5-f1cd50f184f5"
      },
      "execution_count": null,
      "outputs": [
        {
          "output_type": "stream",
          "name": "stdout",
          "text": [
            "hello my name is john\n",
            "my age is 25\n"
          ]
        }
      ]
    },
    {
      "cell_type": "code",
      "source": [
        "class calculator:\n",
        "  #constructor\n",
        "  def __init__(self,num1,num2):\n",
        "    #object specific attribute\n",
        "    self.num1 = num1\n",
        "    self.num2 = num2\n",
        "\n",
        "  def add(self):\n",
        "    return self.num1 + self.num2\n",
        "\n",
        "  def subtract(self):\n",
        "    return self.num1 - self.num2\n",
        "\n",
        "  def multiply(self):\n",
        "    return self.num1 * self.num2\n",
        "\n",
        "  def divide(self):\n",
        "    return self.num1 / self.num2\n",
        "#methord\n",
        "object_name = calculator(10,5)\n",
        "print(object_name.add())\n",
        "print(object_name.subtract())\n",
        "print(object_name.multiply())\n",
        "print(object_name.divide())"
      ],
      "metadata": {
        "colab": {
          "base_uri": "https://localhost:8080/"
        },
        "id": "hdPPmIi3MCin",
        "outputId": "341393c1-e9d0-47b8-f497-7de06c7a8982"
      },
      "execution_count": null,
      "outputs": [
        {
          "output_type": "stream",
          "name": "stdout",
          "text": [
            "15\n",
            "5\n",
            "50\n",
            "2.0\n"
          ]
        }
      ]
    },
    {
      "cell_type": "markdown",
      "source": [
        "## Problem:\n",
        "\n",
        "Imagine you are managing a small library and need a system to track books and their availability. Each book has details like the title, author, and availability status (whether it’s borrowed or not). You want to build a system that allows:\n",
        "\n",
        "1. Adding books to the library.\n",
        "2. Checking if a book is available.\n",
        "3. Borrowing a book (marking it as borrowed).\n",
        "4. Returning a book (marking it as available).\n",
        "\n",
        "You will solve this using classes and objects."
      ],
      "metadata": {
        "id": "fRoBfTIAN3JM"
      }
    },
    {
      "cell_type": "code",
      "source": [
        "class Book:\n",
        "    def __init__(self, title, author):\n",
        "        self.title = title\n",
        "        self. author = author\n",
        "        self.is_available = True\n",
        "    def borrow(self):\n",
        "        if self.is_available:\n",
        "            self.is_available = False\n",
        "            return f\"You have borrowed '{self.title}'.\"\n",
        "        else:\n",
        "            return f\"Sorry, '{self.title}' is already borrowed.\"\n",
        "    def return_book(self):\n",
        "        if not self.is_available:\n",
        "            self.is_available = True\n",
        "            return f\"'{self.title}' has been returned. Thank you!\"\n",
        "        else:\n",
        "            return f\"{self.title}' is already in the library.\"\n",
        "    def check_availability(self):\n",
        "        return f\"'{self.title}' is {'available' if self.is_available else 'not available'}\""
      ],
      "metadata": {
        "id": "un0v2O20N4VV"
      },
      "execution_count": 1,
      "outputs": []
    },
    {
      "cell_type": "code",
      "source": [
        "library = Book(\"To Kill a Mockingbird\", \"Harper Lee\")\n"
      ],
      "metadata": {
        "id": "ssCp6hr9MbEV"
      },
      "execution_count": 2,
      "outputs": []
    },
    {
      "cell_type": "code",
      "source": [
        "print(library.check_availability())"
      ],
      "metadata": {
        "colab": {
          "base_uri": "https://localhost:8080/"
        },
        "id": "PXQd4VEXMdqr",
        "outputId": "c02b9b1f-a5fa-4256-ddef-b5506bc10f45"
      },
      "execution_count": 3,
      "outputs": [
        {
          "output_type": "stream",
          "name": "stdout",
          "text": [
            "'To Kill a Mockingbird' is available\n"
          ]
        }
      ]
    },
    {
      "cell_type": "code",
      "source": [
        "print(library.borrow())"
      ],
      "metadata": {
        "colab": {
          "base_uri": "https://localhost:8080/"
        },
        "id": "UJLTPbdEMe7O",
        "outputId": "5db876f3-b11a-4689-a054-c5ec98faec8f"
      },
      "execution_count": 4,
      "outputs": [
        {
          "output_type": "stream",
          "name": "stdout",
          "text": [
            "You have borrowed 'To Kill a Mockingbird'.\n"
          ]
        }
      ]
    },
    {
      "cell_type": "code",
      "source": [
        "print(library.check_availability())"
      ],
      "metadata": {
        "colab": {
          "base_uri": "https://localhost:8080/"
        },
        "id": "lro4ePjuMhBf",
        "outputId": "27529b5a-c930-42cf-c60b-5b4521d3fb4b"
      },
      "execution_count": 5,
      "outputs": [
        {
          "output_type": "stream",
          "name": "stdout",
          "text": [
            "'To Kill a Mockingbird' is not available\n"
          ]
        }
      ]
    },
    {
      "cell_type": "code",
      "source": [
        "print(library.return_book())"
      ],
      "metadata": {
        "colab": {
          "base_uri": "https://localhost:8080/"
        },
        "id": "4JB25DenMlQM",
        "outputId": "7ea5f2c0-954d-42e9-afe7-c54d27dc790a"
      },
      "execution_count": 6,
      "outputs": [
        {
          "output_type": "stream",
          "name": "stdout",
          "text": [
            "'To Kill a Mockingbird' has been returned. Thank you!\n"
          ]
        }
      ]
    },
    {
      "cell_type": "code",
      "source": [
        "print(library.check_availability())"
      ],
      "metadata": {
        "colab": {
          "base_uri": "https://localhost:8080/"
        },
        "id": "qaSAck8eMlNW",
        "outputId": "ec4758c6-d9c4-422c-c4f8-e1866979b911"
      },
      "execution_count": 7,
      "outputs": [
        {
          "output_type": "stream",
          "name": "stdout",
          "text": [
            "'To Kill a Mockingbird' is available\n"
          ]
        }
      ]
    },
    {
      "cell_type": "code",
      "source": [
        "print(library.return_book())"
      ],
      "metadata": {
        "colab": {
          "base_uri": "https://localhost:8080/"
        },
        "id": "O8LPTEdYMlKx",
        "outputId": "6e2ee391-b489-435b-bb21-45fb5550f971"
      },
      "execution_count": 8,
      "outputs": [
        {
          "output_type": "stream",
          "name": "stdout",
          "text": [
            "To Kill a Mockingbird' is already in the library.\n"
          ]
        }
      ]
    },
    {
      "cell_type": "code",
      "source": [
        "try:\n",
        "    num1 = float(input(\"Enter the numerator: \"))\n",
        "    num2 = float(input(\"Enter the denominator: \"))\n",
        "    result = num1 / num2\n",
        "except ZeroDivisionError:\n",
        "    print(\"Division by zero is not allowed.\")\n",
        "except ValueError:\n",
        "    print(\"Invalid input. Please enter numeric values.\")\n",
        "else:\n",
        "    print(\"Success!\", result)"
      ],
      "metadata": {
        "colab": {
          "base_uri": "https://localhost:8080/"
        },
        "id": "n8HEltY_MlIV",
        "outputId": "b22fce59-6987-4498-8eec-a9ed370a90f7"
      },
      "execution_count": 9,
      "outputs": [
        {
          "output_type": "stream",
          "name": "stdout",
          "text": [
            "Enter the numerator: 30\n",
            "Enter the denominator: 5\n",
            "Success! 6.0\n"
          ]
        }
      ]
    }
  ]
}